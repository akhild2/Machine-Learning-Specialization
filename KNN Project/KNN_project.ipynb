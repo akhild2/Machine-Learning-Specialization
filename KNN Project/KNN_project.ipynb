{
 "cells": [
  {
   "cell_type": "markdown",
   "metadata": {},
   "source": [
    "<h1>Importing required libraries and reading data from given files</h1>"
   ]
  },
  {
   "cell_type": "code",
   "execution_count": 1,
   "metadata": {
    "scrolled": true
   },
   "outputs": [],
   "source": [
    "from scipy.io import arff\n",
    "import pandas as pd\n",
    "import math\n",
    "import operator\n",
    "\n",
    "data = arff.loadarff('trainProdSelection.arff')\n",
    "training_set = pd.DataFrame(data[0])\n",
    "\n",
    "data = arff.loadarff('testProdSelection.arff')\n",
    "testing_set = pd.DataFrame(data[0])"
   ]
  },
  {
   "cell_type": "markdown",
   "metadata": {},
   "source": [
    "<h1>Checking the training set</h1>"
   ]
  },
  {
   "cell_type": "code",
   "execution_count": 2,
   "metadata": {},
   "outputs": [
    {
     "data": {
      "text/html": [
       "<div>\n",
       "<style scoped>\n",
       "    .dataframe tbody tr th:only-of-type {\n",
       "        vertical-align: middle;\n",
       "    }\n",
       "\n",
       "    .dataframe tbody tr th {\n",
       "        vertical-align: top;\n",
       "    }\n",
       "\n",
       "    .dataframe thead th {\n",
       "        text-align: right;\n",
       "    }\n",
       "</style>\n",
       "<table border=\"1\" class=\"dataframe\">\n",
       "  <thead>\n",
       "    <tr style=\"text-align: right;\">\n",
       "      <th></th>\n",
       "      <th>Type</th>\n",
       "      <th>LifeStyle</th>\n",
       "      <th>Vacation</th>\n",
       "      <th>eCredit</th>\n",
       "      <th>salary</th>\n",
       "      <th>property</th>\n",
       "      <th>label</th>\n",
       "    </tr>\n",
       "  </thead>\n",
       "  <tbody>\n",
       "    <tr>\n",
       "      <th>0</th>\n",
       "      <td>b'student'</td>\n",
       "      <td>b'spend&gt;saving'</td>\n",
       "      <td>6.0</td>\n",
       "      <td>40.0</td>\n",
       "      <td>13.62</td>\n",
       "      <td>3.2804</td>\n",
       "      <td>b'C1'</td>\n",
       "    </tr>\n",
       "    <tr>\n",
       "      <th>1</th>\n",
       "      <td>b'student'</td>\n",
       "      <td>b'spend&gt;saving'</td>\n",
       "      <td>11.0</td>\n",
       "      <td>21.0</td>\n",
       "      <td>15.32</td>\n",
       "      <td>2.0232</td>\n",
       "      <td>b'C1'</td>\n",
       "    </tr>\n",
       "    <tr>\n",
       "      <th>2</th>\n",
       "      <td>b'student'</td>\n",
       "      <td>b'spend&gt;saving'</td>\n",
       "      <td>7.0</td>\n",
       "      <td>64.0</td>\n",
       "      <td>16.55</td>\n",
       "      <td>3.1202</td>\n",
       "      <td>b'C1'</td>\n",
       "    </tr>\n",
       "    <tr>\n",
       "      <th>3</th>\n",
       "      <td>b'student'</td>\n",
       "      <td>b'spend&gt;saving'</td>\n",
       "      <td>3.0</td>\n",
       "      <td>47.0</td>\n",
       "      <td>15.71</td>\n",
       "      <td>3.4022</td>\n",
       "      <td>b'C1'</td>\n",
       "    </tr>\n",
       "    <tr>\n",
       "      <th>4</th>\n",
       "      <td>b'student'</td>\n",
       "      <td>b'spend&gt;saving'</td>\n",
       "      <td>15.0</td>\n",
       "      <td>10.0</td>\n",
       "      <td>16.96</td>\n",
       "      <td>2.2825</td>\n",
       "      <td>b'C1'</td>\n",
       "    </tr>\n",
       "  </tbody>\n",
       "</table>\n",
       "</div>"
      ],
      "text/plain": [
       "         Type        LifeStyle  Vacation  eCredit  salary  property  label\n",
       "0  b'student'  b'spend>saving'       6.0     40.0   13.62    3.2804  b'C1'\n",
       "1  b'student'  b'spend>saving'      11.0     21.0   15.32    2.0232  b'C1'\n",
       "2  b'student'  b'spend>saving'       7.0     64.0   16.55    3.1202  b'C1'\n",
       "3  b'student'  b'spend>saving'       3.0     47.0   15.71    3.4022  b'C1'\n",
       "4  b'student'  b'spend>saving'      15.0     10.0   16.96    2.2825  b'C1'"
      ]
     },
     "execution_count": 2,
     "metadata": {},
     "output_type": "execute_result"
    }
   ],
   "source": [
    "training_set.head()"
   ]
  },
  {
   "cell_type": "markdown",
   "metadata": {},
   "source": [
    "<h1>Checking the testing set</h1>"
   ]
  },
  {
   "cell_type": "code",
   "execution_count": 3,
   "metadata": {
    "scrolled": true
   },
   "outputs": [
    {
     "data": {
      "text/html": [
       "<div>\n",
       "<style scoped>\n",
       "    .dataframe tbody tr th:only-of-type {\n",
       "        vertical-align: middle;\n",
       "    }\n",
       "\n",
       "    .dataframe tbody tr th {\n",
       "        vertical-align: top;\n",
       "    }\n",
       "\n",
       "    .dataframe thead th {\n",
       "        text-align: right;\n",
       "    }\n",
       "</style>\n",
       "<table border=\"1\" class=\"dataframe\">\n",
       "  <thead>\n",
       "    <tr style=\"text-align: right;\">\n",
       "      <th></th>\n",
       "      <th>Type</th>\n",
       "      <th>LifeStyle</th>\n",
       "      <th>Vacation</th>\n",
       "      <th>eCredit</th>\n",
       "      <th>salary</th>\n",
       "      <th>property</th>\n",
       "      <th>label</th>\n",
       "    </tr>\n",
       "  </thead>\n",
       "  <tbody>\n",
       "    <tr>\n",
       "      <th>0</th>\n",
       "      <td>b'student'</td>\n",
       "      <td>b'spend&lt;saving'</td>\n",
       "      <td>12.0</td>\n",
       "      <td>19.0</td>\n",
       "      <td>14.7900</td>\n",
       "      <td>3.7697</td>\n",
       "      <td>b'C1'</td>\n",
       "    </tr>\n",
       "    <tr>\n",
       "      <th>1</th>\n",
       "      <td>b'student'</td>\n",
       "      <td>b'spend&gt;&gt;saving'</td>\n",
       "      <td>29.0</td>\n",
       "      <td>10.0</td>\n",
       "      <td>16.1900</td>\n",
       "      <td>2.4839</td>\n",
       "      <td>b'C1'</td>\n",
       "    </tr>\n",
       "    <tr>\n",
       "      <th>2</th>\n",
       "      <td>b'student'</td>\n",
       "      <td>b'spend&lt;&lt;saving'</td>\n",
       "      <td>28.0</td>\n",
       "      <td>60.0</td>\n",
       "      <td>15.4600</td>\n",
       "      <td>1.1885</td>\n",
       "      <td>b'C1'</td>\n",
       "    </tr>\n",
       "    <tr>\n",
       "      <th>3</th>\n",
       "      <td>b'engineer'</td>\n",
       "      <td>b'spend&gt;saving'</td>\n",
       "      <td>15.0</td>\n",
       "      <td>41.0</td>\n",
       "      <td>21.2600</td>\n",
       "      <td>1.4379</td>\n",
       "      <td>b'C1'</td>\n",
       "    </tr>\n",
       "    <tr>\n",
       "      <th>4</th>\n",
       "      <td>b'librarian'</td>\n",
       "      <td>b'spend&lt;saving'</td>\n",
       "      <td>2.0</td>\n",
       "      <td>9.0</td>\n",
       "      <td>19.7207</td>\n",
       "      <td>0.6913</td>\n",
       "      <td>b'C1'</td>\n",
       "    </tr>\n",
       "  </tbody>\n",
       "</table>\n",
       "</div>"
      ],
      "text/plain": [
       "           Type         LifeStyle  Vacation  eCredit   salary  property  label\n",
       "0    b'student'   b'spend<saving'      12.0     19.0  14.7900    3.7697  b'C1'\n",
       "1    b'student'  b'spend>>saving'      29.0     10.0  16.1900    2.4839  b'C1'\n",
       "2    b'student'  b'spend<<saving'      28.0     60.0  15.4600    1.1885  b'C1'\n",
       "3   b'engineer'   b'spend>saving'      15.0     41.0  21.2600    1.4379  b'C1'\n",
       "4  b'librarian'   b'spend<saving'       2.0      9.0  19.7207    0.6913  b'C1'"
      ]
     },
     "execution_count": 3,
     "metadata": {},
     "output_type": "execute_result"
    }
   ],
   "source": [
    "testing_set.head()"
   ]
  },
  {
   "cell_type": "markdown",
   "metadata": {},
   "source": [
    "<h1>Training set pre-processing</h1>\n",
    "<h3>Converting the columns from byte code to string</h3>"
   ]
  },
  {
   "cell_type": "code",
   "execution_count": 4,
   "metadata": {},
   "outputs": [],
   "source": [
    "training_set.Type = training_set.Type.str.decode(\"UTF-8\")\n",
    "training_set.LifeStyle = training_set.LifeStyle.str.decode(\"UTF-8\")\n",
    "training_set.label = training_set.label.str.decode(\"UTF-8\")"
   ]
  },
  {
   "cell_type": "markdown",
   "metadata": {},
   "source": [
    "<h3>Scaling the values of columns in training set</h3>"
   ]
  },
  {
   "cell_type": "code",
   "execution_count": 5,
   "metadata": {},
   "outputs": [],
   "source": [
    "minValue = training_set.Vacation.min()\n",
    "maxValue = training_set.Vacation.max()\n",
    "training_set.Vacation = training_set.Vacation.apply(lambda x:(x-minValue)/(maxValue-minValue))\n",
    "\n",
    "minValue = training_set.eCredit.min()\n",
    "maxValue = training_set.eCredit.max()\n",
    "training_set.eCredit = training_set.eCredit.apply(lambda x:(x-minValue)/(maxValue-minValue))\n",
    "\n",
    "minValue = training_set.salary.min()\n",
    "maxValue = training_set.salary.max()\n",
    "training_set.salary = training_set.salary.apply(lambda x:(x-minValue)/(maxValue-minValue))\n",
    "\n",
    "minValue = training_set.property.min()\n",
    "maxValue = training_set.property.max()\n",
    "training_set.property = training_set.property.apply(lambda x:(x-minValue)/(maxValue-minValue))"
   ]
  },
  {
   "cell_type": "markdown",
   "metadata": {},
   "source": [
    "<h1>Testing set pre-processing</h1>\n",
    "<h3>Converting the columns from byte code to string</h3>"
   ]
  },
  {
   "cell_type": "code",
   "execution_count": 6,
   "metadata": {},
   "outputs": [],
   "source": [
    "testing_set.Type=testing_set.Type.str.decode(\"UTF-8\")\n",
    "testing_set.LifeStyle=testing_set.LifeStyle.str.decode(\"UTF-8\")\n",
    "testing_set.label=testing_set.label.str.decode(\"UTF-8\")"
   ]
  },
  {
   "cell_type": "markdown",
   "metadata": {},
   "source": [
    "<h3>Scaling the values of the columns in testing set</h3>"
   ]
  },
  {
   "cell_type": "code",
   "execution_count": 7,
   "metadata": {},
   "outputs": [],
   "source": [
    "minValue = testing_set.Vacation.min()\n",
    "maxValue = testing_set.Vacation.max()\n",
    "testing_set.Vacation = testing_set.Vacation.apply(lambda x:(x-minValue)/(maxValue-minValue))\n",
    "\n",
    "minValue = testing_set.eCredit.min()\n",
    "maxValue = testing_set.eCredit.max()\n",
    "testing_set.eCredit = testing_set.eCredit.apply(lambda x:(x-minValue)/(maxValue-minValue))\n",
    "\n",
    "minValue = testing_set.salary.min()\n",
    "maxValue = testing_set.salary.max()\n",
    "testing_set.salary = testing_set.salary.apply(lambda x:(x-minValue)/(maxValue-minValue))\n",
    "\n",
    "minValue = testing_set.property.min()\n",
    "maxValue = testing_set.property.max()\n",
    "testing_set.property = testing_set.property.apply(lambda x:(x-minValue)/(maxValue-minValue))"
   ]
  },
  {
   "cell_type": "markdown",
   "metadata": {},
   "source": [
    "<h1>Writing the required functions for the prediction</h1>\n",
    "<ul>\n",
    "    <li><b>Euclidean Distance --> </b>To calculate the distance between points in a graph</li>\n",
    "    <li><b>Get Neighbours --> </b>Calculates the distance between the test instance and the whole training set. Returns 'K' number of neighbours</li>\n",
    "    <li><b>Get Response --> </b>It calculates the frequency of the class from 'K' nearest neighbours and returns the class which has occured the most</li>\n",
    "    <li><b>Get Accuracy --> </b>It calculates the accuracy</li>\n",
    "</ul>"
   ]
  },
  {
   "cell_type": "code",
   "execution_count": 8,
   "metadata": {},
   "outputs": [],
   "source": [
    "def euclidean_distance(instance1, instance2, length):\n",
    "    distance = 0\n",
    "    for i in range(2):\n",
    "        if (instance1[i]!=instance2[i]):\n",
    "            distance += pow((1), 2)\n",
    "    for x in range(2,length):\n",
    "        distance += pow((instance1[x] - instance2[x]), 2)\n",
    "    return math.sqrt(distance)\n",
    " \n",
    "def get_neighbours(trainingSet, testInstance, k):\n",
    "    distances = []\n",
    "    length = len(testInstance)-1\n",
    "    for x in range(len(trainingSet)):\n",
    "        dist = euclidean_distance(testInstance, trainingSet[x], length)\n",
    "        distances.append((trainingSet[x], dist))\n",
    "    distances.sort(key=operator.itemgetter(1))\n",
    "    neighbours = []\n",
    "    for x in range(k):\n",
    "        neighbours.append(distances[x])\n",
    "    return neighbours\n",
    " \n",
    "def get_response(neighbours):\n",
    "#     print(neighbours)\n",
    "    classVotes = {}\n",
    "#     print(len(neighbours))\n",
    "    for x in range(len(neighbours)):\n",
    "#         print(neighbours[x][0][-1])\n",
    "#         print(neighbours[x][1])\n",
    "        response = neighbours[x][0][-1]\n",
    "        if response in classVotes:\n",
    "            classVotes[response] += 1\n",
    "        else:\n",
    "            classVotes[response] = 1\n",
    "#     print(classVotes)\n",
    "    sortedVotes = sorted(classVotes.items(), key=operator.itemgetter(1), reverse=True)\n",
    "    return sortedVotes[0][0]\n",
    " \n",
    "def get_accuracy(testSet, predictions):\n",
    "    correct = 0\n",
    "    for x in range(len(testSet)):\n",
    "        if testSet[x][-1] == predictions[x]:\n",
    "            correct += 1\n",
    "    return (correct/float(len(testSet))) * 100.0"
   ]
  },
  {
   "cell_type": "markdown",
   "metadata": {},
   "source": [
    "<h1>This is the driver function which calls all the other functions by taking an Integer as input. The input given is the 'K' value.</h1>"
   ]
  },
  {
   "cell_type": "code",
   "execution_count": 9,
   "metadata": {},
   "outputs": [],
   "source": [
    "def knn(k):\n",
    "    predictions=[]\n",
    "    for x in range(len(testing_set)):\n",
    "        neighbours = get_neighbours(training_set.values, testing_set.values[x], k)\n",
    "        result = get_response(neighbours)\n",
    "        predictions.append(result)\n",
    "    accuracy = get_accuracy(testing_set.values, predictions)\n",
    "    print('Accuracy: ' + repr(accuracy) + '%')"
   ]
  },
  {
   "cell_type": "code",
   "execution_count": 10,
   "metadata": {},
   "outputs": [
    {
     "name": "stdout",
     "output_type": "stream",
     "text": [
      "Accuracy: 33.33333333333333%\n"
     ]
    }
   ],
   "source": [
    "knn(55)"
   ]
  }
 ],
 "metadata": {
  "kernelspec": {
   "display_name": "Python 3",
   "language": "python",
   "name": "python3"
  },
  "language_info": {
   "codemirror_mode": {
    "name": "ipython",
    "version": 3
   },
   "file_extension": ".py",
   "mimetype": "text/x-python",
   "name": "python",
   "nbconvert_exporter": "python",
   "pygments_lexer": "ipython3",
   "version": "3.6.5"
  }
 },
 "nbformat": 4,
 "nbformat_minor": 2
}
